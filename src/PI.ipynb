{
 "cells": [
  {
   "cell_type": "markdown",
   "metadata": {},
   "source": [
    "# USER SCHEDULING IN 5G"
   ]
  },
  {
   "cell_type": "markdown",
   "metadata": {},
   "source": [
    "## Preparation"
   ]
  },
  {
   "cell_type": "code",
   "execution_count": 15,
   "metadata": {},
   "outputs": [],
   "source": [
    "import numpy as np"
   ]
  },
  {
   "cell_type": "code",
   "execution_count": 70,
   "metadata": {},
   "outputs": [],
   "source": [
    "def get_testfile(x):\n",
    "    '''x is the number of testfile'''\n",
    "    '''return: N, M, K, p''' \n",
    "    '''and two dictionaries who stores the value of p_kmn and r_kmn by the key (k,m,n)'''\n",
    "    f = open(\"testfiles/test%d.txt\"%x)\n",
    "    N = int(eval(f.readline()))\n",
    "    M = int(eval(f.readline()))\n",
    "    K = int(eval(f.readline()))\n",
    "    p = int(eval(f.readline()))\n",
    "    line = f.readline()\n",
    "    temp = []\n",
    "    while line:\n",
    "        odom = line.split()\n",
    "        temp.append( [eval(odom[i]) for i in range(M) ] )\n",
    "        line = f.readline()\n",
    "    \n",
    "    p_kmn = {}\n",
    "    for n in range(N):\n",
    "        for k in range(K):\n",
    "            for m in range(M):\n",
    "                p_kmn[(k+1,m+1,n+1)] = temp[K*n + k][m]\n",
    "                \n",
    "    r_kmn = {}\n",
    "    for n in range(N):\n",
    "        for k in range(K):\n",
    "            for m in range(M):\n",
    "                r_kmn[(k+1,m+1,n+1)] = temp[K*N + K*n + k][m]\n",
    "    return K, M, N, p, p_kmn, r_kmn"
   ]
  },
  {
   "cell_type": "code",
   "execution_count": 71,
   "metadata": {
    "scrolled": true
   },
   "outputs": [
    {
     "data": {
      "text/plain": [
       "(3,\n",
       " 2,\n",
       " 4,\n",
       " 100,\n",
       " {(1, 1, 1): 12.0,\n",
       "  (1, 2, 1): 1.0,\n",
       "  (2, 1, 1): 19.0,\n",
       "  (2, 2, 1): 35.0,\n",
       "  (3, 1, 1): 37.0,\n",
       "  (3, 2, 1): 50.0,\n",
       "  (1, 1, 2): 20.0,\n",
       "  (1, 2, 2): 50.0,\n",
       "  (2, 1, 2): 16.0,\n",
       "  (2, 2, 2): 17.0,\n",
       "  (3, 1, 2): 7.0,\n",
       "  (3, 2, 2): 1.0,\n",
       "  (1, 1, 3): 13.0,\n",
       "  (1, 2, 3): 36.0,\n",
       "  (2, 1, 3): 34.0,\n",
       "  (2, 2, 3): 46.0,\n",
       "  (3, 1, 3): 27.0,\n",
       "  (3, 2, 3): 1.0,\n",
       "  (1, 1, 4): 16.0,\n",
       "  (1, 2, 4): 28.0,\n",
       "  (2, 1, 4): 32.0,\n",
       "  (2, 2, 4): 1.0,\n",
       "  (3, 1, 4): 35.0,\n",
       "  (3, 2, 4): 43.0},\n",
       " {(1, 1, 1): 65.0,\n",
       "  (1, 2, 1): 98.0,\n",
       "  (2, 1, 1): 62.0,\n",
       "  (2, 2, 1): 90.0,\n",
       "  (3, 1, 1): 23.0,\n",
       "  (3, 2, 1): 95.0,\n",
       "  (1, 1, 2): 49.0,\n",
       "  (1, 2, 2): 54.0,\n",
       "  (2, 1, 2): 76.0,\n",
       "  (2, 2, 2): 81.0,\n",
       "  (3, 1, 2): 50.0,\n",
       "  (3, 2, 2): 85.0,\n",
       "  (1, 1, 3): 24.0,\n",
       "  (1, 2, 3): 86.0,\n",
       "  (2, 1, 3): 41.0,\n",
       "  (2, 2, 3): 62.0,\n",
       "  (3, 1, 3): 63.0,\n",
       "  (3, 2, 3): 87.0,\n",
       "  (1, 1, 4): 15.0,\n",
       "  (1, 2, 4): 56.0,\n",
       "  (2, 1, 4): 13.0,\n",
       "  (2, 2, 4): 95.0,\n",
       "  (3, 1, 4): 41.0,\n",
       "  (3, 2, 4): 42.0})"
      ]
     },
     "execution_count": 71,
     "metadata": {},
     "output_type": "execute_result"
    }
   ],
   "source": [
    "get_testfile(1)"
   ]
  },
  {
   "cell_type": "code",
   "execution_count": 72,
   "metadata": {},
   "outputs": [],
   "source": [
    "class Schedule_5G(object):\n",
    "    def __init__(self, K, M, N, p, p_kmn, r_kmn):\n",
    "        # the users range from 1 to K\n",
    "        self.K = K;\n",
    "        # the channels range from 1 to N\n",
    "        self.N = N;\n",
    "        self.M = M\n",
    "        self.p = p\n",
    "        if len(p_kmn.keys()) == K * N * M and len(r_kmn.keys()) == K * N * M:\n",
    "            self.r_kmn = r_kmn\n",
    "        else:\n",
    "            print(\"The dimension not match!\")     "
   ]
  },
  {
   "cell_type": "markdown",
   "metadata": {},
   "source": [
    "## Question I: ILP (DP)"
   ]
  },
  {
   "cell_type": "code",
   "execution_count": 73,
   "metadata": {},
   "outputs": [],
   "source": [
    "class Schedule_5G(object):\n",
    "    def __init__(self, K, M, N, p, p_kmn, r_kmn):\n",
    "        # the users range from 1 to K\n",
    "        self.K = K;\n",
    "        # the channels range from 1 to N\n",
    "        self.N = N;\n",
    "        self.M = M\n",
    "        self.p = p\n",
    "        if len(p_kmn.keys()) == K * N * M and len(r_kmn.keys()) == K * N * M:\n",
    "            self.r_kmn = r_kmn\n",
    "        else:\n",
    "            print(\"The dimension not match!\")     \n",
    "    \n",
    "    def find_optimal_k(k,p,n):\n",
    "        '''for a specific channel n with p power, return the optimal user with the best utility'''\n",
    "        best_r = 0\n",
    "        for k_i in range(k):\n",
    "            for m in range(M - 1):\n",
    "                if self.p_kmn[(k,m,n)] <= p and self.p_kmn[(k,m+1,n)] > p:\n",
    "                    break;\n",
    "            \n",
    "    \n",
    "    def schedule_by_Ilp(self):\n",
    "        N = self.N\n",
    "        K = self.K\n",
    "        M = self.M\n",
    "        P = self.P\n",
    "        p_knm = self.p_knm\n",
    "        r_knm = self.r_knm\n",
    "        dp = [[(N+1)*[0] for p in range(P+1)] for j in range(K)]\n",
    "        \n",
    "        for k in range(1,K+1):\n",
    "            for p in range(1,P+1):\n",
    "                for n in range(1,N+1):\n",
    "                    "
   ]
  }
 ],
 "metadata": {
  "kernelspec": {
   "display_name": "Python 3",
   "language": "python",
   "name": "python3"
  },
  "language_info": {
   "codemirror_mode": {
    "name": "ipython",
    "version": 3
   },
   "file_extension": ".py",
   "mimetype": "text/x-python",
   "name": "python",
   "nbconvert_exporter": "python",
   "pygments_lexer": "ipython3",
   "version": "3.6.5"
  }
 },
 "nbformat": 4,
 "nbformat_minor": 2
}
