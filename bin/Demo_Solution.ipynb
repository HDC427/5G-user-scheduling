{
 "cells": [
  {
   "cell_type": "code",
   "execution_count": 1,
   "metadata": {},
   "outputs": [],
   "source": [
    "import sys\n",
    "if '../' not in sys.path:\n",
    "    sys.path.append('../')\n",
    "    sys.path.append('../src')\n",
    "    \n",
    "import matplotlib.pyplot as plt\n",
    "from Channel import Channel\n",
    "from Solution import Solution"
   ]
  },
  {
   "cell_type": "code",
   "execution_count": 2,
   "metadata": {},
   "outputs": [],
   "source": [
    "channel = Channel.read_testfile(3)\n",
    "\n",
    "for i in range(Channel.N):\n",
    "    channel[i].preprocess_simple()\n",
    "    channel[i].preprocess_IP()\n",
    "    channel[i].preprocess_LP()"
   ]
  },
  {
   "cell_type": "code",
   "execution_count": 3,
   "metadata": {},
   "outputs": [],
   "source": [
    "S = Solution(channel)"
   ]
  },
  {
   "cell_type": "code",
   "execution_count": 4,
   "metadata": {},
   "outputs": [
    {
     "name": "stdout",
     "output_type": "stream",
     "text": [
      "Power budget: 100\n",
      "[0 1]\n",
      "[0.         0.17948718 0.82051282]\n",
      "[0 1]\n",
      "[0 1]\n",
      "total power:  100.0 ; total utility:  372.1538461538462\n"
     ]
    }
   ],
   "source": [
    "S.greedy_solution()\n",
    "S.get_answer(True)\n",
    "S.show_answer(True)"
   ]
  },
  {
   "cell_type": "code",
   "execution_count": 5,
   "metadata": {},
   "outputs": [
    {
     "name": "stdout",
     "output_type": "stream",
     "text": [
      "Power budget: 100\n",
      "channel(n)\t p\t r\t user(k), m\n",
      "\t 1 \t 27 \t 82 \t 1 , 2\n",
      "\t 2 \t 7 \t 71 \t 1 , 1\n",
      "\t 3 \t 25 \t 100 \t 2 , 3\n",
      "\t 4 \t 9 \t 97 \t 2 , 1\n",
      "total power:  68 ; total utility:  350\n"
     ]
    }
   ],
   "source": [
    "S.DP_solution()\n",
    "S.get_answer()\n",
    "S.show_answer()"
   ]
  },
  {
   "cell_type": "code",
   "execution_count": 6,
   "metadata": {},
   "outputs": [
    {
     "name": "stdout",
     "output_type": "stream",
     "text": [
      "Power budget: 100\n",
      "channel(n)\t p\t r\t user(k), m\n",
      "\t 1 \t 27 \t 82 \t 1 , 2\n",
      "\t 2 \t 7 \t 71 \t 1 , 1\n",
      "\t 3 \t 25 \t 100 \t 2 , 3\n",
      "\t 4 \t 9 \t 97 \t 2 , 1\n",
      "total power:  68 ; total utility:  350\n"
     ]
    }
   ],
   "source": [
    "S.DP_solution_2()\n",
    "S.get_answer()\n",
    "S.show_answer()"
   ]
  },
  {
   "cell_type": "code",
   "execution_count": 7,
   "metadata": {},
   "outputs": [
    {
     "name": "stdout",
     "output_type": "stream",
     "text": [
      "[[1, 2, 1, 1, 4]]\n",
      "[[0, 2, 1, 1, 1], [1, 1, 1, 1, 2], [1, 2, 0, 1, 3], [1, 2, 1, 0, 4]]\n",
      "[[1, 1, 1, 1, 2], [1, 2, 0, 1, 3], [1, 2, 1, 0, 4]]\n",
      "[[1, 2, 0, 1, 3], [1, 2, 1, 0, 4]]\n",
      "[[1, 2, 1, 0, 4]]\n",
      "Power budget: 100\n",
      "channel(n)\t p\t r\t user(k), m\n",
      "\t 1 \t 27 \t 82 \t 1 , 2\n",
      "\t 2 \t 7 \t 71 \t 1 , 1\n",
      "\t 3 \t 25 \t 100 \t 2 , 3\n",
      "\t 4 \t 9 \t 97 \t 2 , 1\n",
      "total power:  68 ; total utility:  350\n"
     ]
    }
   ],
   "source": [
    "S.BB_solution()\n",
    "S.get_answer()\n",
    "S.show_answer()"
   ]
  },
  {
   "cell_type": "code",
   "execution_count": null,
   "metadata": {},
   "outputs": [],
   "source": []
  }
 ],
 "metadata": {
  "kernelspec": {
   "display_name": "Python 3",
   "language": "python",
   "name": "python3"
  },
  "language_info": {
   "codemirror_mode": {
    "name": "ipython",
    "version": 3
   },
   "file_extension": ".py",
   "mimetype": "text/x-python",
   "name": "python",
   "nbconvert_exporter": "python",
   "pygments_lexer": "ipython3",
   "version": "3.6.5"
  }
 },
 "nbformat": 4,
 "nbformat_minor": 2
}
