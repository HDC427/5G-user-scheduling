{
 "cells": [
  {
   "cell_type": "code",
   "execution_count": 1,
   "metadata": {
    "scrolled": true
   },
   "outputs": [],
   "source": [
    "import sys\n",
    "if '../' not in sys.path:\n",
    "    sys.path.append('../')\n",
    "    sys.path.append('../src')\n",
    "    \n",
    "from Channel import Channel\n",
    "from Solution import Solution\n",
    "from Random_Solution import Online_Solution\n",
    "from Random_Solution import Result_Analyse"
   ]
  },
  {
   "cell_type": "markdown",
   "metadata": {},
   "source": [
    "**Please change the PATH in file Channel.py**"
   ]
  },
  {
   "cell_type": "markdown",
   "metadata": {},
   "source": [
    "# Initialization\n",
    "loading data and preprocessing"
   ]
  },
  {
   "cell_type": "markdown",
   "metadata": {},
   "source": [
    "Please Enter the testfile number you want to run"
   ]
  },
  {
   "cell_type": "code",
   "execution_count": 2,
   "metadata": {},
   "outputs": [
    {
     "name": "stdout",
     "output_type": "stream",
     "text": [
      "Please input the testfile you want to check:\n",
      "3\n"
     ]
    }
   ],
   "source": [
    "CASE = -1\n",
    "while CASE not in [1,2,3,4,5]:\n",
    "    print(\"Please input the testfile you want to check:\")\n",
    "    CASE = int(input())"
   ]
  },
  {
   "cell_type": "code",
   "execution_count": 3,
   "metadata": {},
   "outputs": [],
   "source": [
    "channel = Channel.read_testfile(CASE)\n",
    "\n",
    "for i in range(Channel.N):\n",
    "    channel[i].preprocess_simple()\n",
    "    channel[i].preprocess_IP()\n",
    "    channel[i].preprocess_LP()"
   ]
  },
  {
   "cell_type": "code",
   "execution_count": 4,
   "metadata": {},
   "outputs": [],
   "source": [
    "S = Solution(channel)"
   ]
  },
  {
   "cell_type": "markdown",
   "metadata": {},
   "source": [
    "# Greedy solution"
   ]
  },
  {
   "cell_type": "code",
   "execution_count": 5,
   "metadata": {},
   "outputs": [
    {
     "name": "stdout",
     "output_type": "stream",
     "text": [
      "Power budget: 100\n",
      "[0 1]\n",
      "[0.         0.17948718 0.82051282]\n",
      "[0 1]\n",
      "[0 1]\n",
      "total power:  100.0 ; total utility:  372.1538461538462\n",
      "Wall time: 0 ns\n"
     ]
    }
   ],
   "source": [
    "%%time\n",
    "S.greedy_solution()\n",
    "S.get_answer()\n",
    "S.show_answer()"
   ]
  },
  {
   "cell_type": "markdown",
   "metadata": {},
   "source": [
    "Standard linear programming for comparison"
   ]
  },
  {
   "cell_type": "code",
   "execution_count": 16,
   "metadata": {},
   "outputs": [
    {
     "name": "stdout",
     "output_type": "stream",
     "text": [
      "[1.60501878e-12 1.00000000e+00 2.58363798e-13 1.79487179e-01\n",
      " 8.20512821e-01 1.76768838e-12 1.00000000e+00 1.76193184e-12\n",
      " 1.00000000e+00]\n",
      "Max utility by standard linear programming: 372.1538461541031\n"
     ]
    },
    {
     "name": "stderr",
     "output_type": "stream",
     "text": [
      "C:\\Users\\Dorian\\Anaconda3\\lib\\site-packages\\ipykernel_launcher.py:18: OptimizeWarning: Solving system with option 'cholesky':True failed. It is normal for this to happen occasionally, especially as the solution is approached. However, if you see this frequently, consider setting option 'cholesky' to False.\n",
      "C:\\Users\\Dorian\\Anaconda3\\lib\\site-packages\\ipykernel_launcher.py:18: OptimizeWarning: Solving system with option 'sym_pos':True failed. It is normal for this to happen occasionally, especially as the solution is approached. However, if you see this frequently, consider setting option 'sym_pos' to False.\n"
     ]
    }
   ],
   "source": [
    "import numpy as np\n",
    "from scipy import optimize\n",
    "\n",
    "U = np.concatenate([channel[i].r for i in range(Channel.N)])\n",
    "P = np.concatenate([channel[i].p for i in range(Channel.N)])\n",
    "\n",
    "X = np.zeros((Channel.N, len(U)))\n",
    "temp = 0\n",
    "for i in range(Channel.N):\n",
    "    X[i, temp:temp+channel[i].size()] = 1\n",
    "    temp += channel[i].size()\n",
    "    \n",
    "P = np.row_stack((P, X))\n",
    "B = [Channel.P] + [1 for i in range(Channel.N)]\n",
    "\n",
    "bounds = [(0, 1) for i in range(len(U))]\n",
    "\n",
    "res = optimize.linprog(-U, A_ub=P, b_ub=B, bounds=bounds)\n",
    "print(res.x)\n",
    "print('Max utility by standard linear programming:', -res.fun)"
   ]
  },
  {
   "cell_type": "markdown",
   "metadata": {},
   "source": [
    "# DP solution"
   ]
  },
  {
   "cell_type": "code",
   "execution_count": 7,
   "metadata": {},
   "outputs": [
    {
     "name": "stdout",
     "output_type": "stream",
     "text": [
      "Power budget: 100\n",
      "channel(n)\t p\t r\t user(k), m\n",
      "\t 1 \t 27 \t 82 \t 1 , 2\n",
      "\t 2 \t 7 \t 71 \t 1 , 1\n",
      "\t 3 \t 25 \t 100 \t 2 , 3\n",
      "\t 4 \t 9 \t 97 \t 2 , 1\n",
      "total power:  68 ; total utility:  350\n",
      "Wall time: 0 ns\n"
     ]
    }
   ],
   "source": [
    "%%time\n",
    "S.DP_solution()\n",
    "S.get_answer()\n",
    "S.show_answer()"
   ]
  },
  {
   "cell_type": "markdown",
   "metadata": {},
   "source": [
    "# DP solution 2"
   ]
  },
  {
   "cell_type": "code",
   "execution_count": 8,
   "metadata": {},
   "outputs": [
    {
     "name": "stdout",
     "output_type": "stream",
     "text": [
      "Power budget: 100\n",
      "channel(n)\t p\t r\t user(k), m\n",
      "\t 1 \t 27 \t 82 \t 1 , 2\n",
      "\t 2 \t 7 \t 71 \t 1 , 1\n",
      "\t 3 \t 25 \t 100 \t 2 , 3\n",
      "\t 4 \t 9 \t 97 \t 2 , 1\n",
      "total power:  68 ; total utility:  350\n",
      "Wall time: 31.1 ms\n"
     ]
    }
   ],
   "source": [
    "%%time\n",
    "S.DP_solution_2()\n",
    "S.get_answer()\n",
    "S.show_answer()"
   ]
  },
  {
   "cell_type": "markdown",
   "metadata": {},
   "source": [
    "# Branch and bound"
   ]
  },
  {
   "cell_type": "markdown",
   "metadata": {},
   "source": [
    "**Please not use the testfiles 4 and 5**"
   ]
  },
  {
   "cell_type": "code",
   "execution_count": 9,
   "metadata": {},
   "outputs": [
    {
     "name": "stdout",
     "output_type": "stream",
     "text": [
      "[[1, 2, 1, 1, 4]]\n",
      "[[0, 2, 1, 1, 1], [1, 1, 1, 1, 2], [1, 2, 0, 1, 3], [1, 2, 1, 0, 4]]\n",
      "[[1, 1, 1, 1, 2], [1, 2, 0, 1, 3], [1, 2, 1, 0, 4]]\n",
      "[[1, 2, 0, 1, 3], [1, 2, 1, 0, 4]]\n",
      "[[1, 2, 1, 0, 4]]\n",
      "Power budget: 100\n",
      "channel(n)\t p\t r\t user(k), m\n",
      "\t 1 \t 27 \t 82 \t 1 , 2\n",
      "\t 2 \t 7 \t 71 \t 1 , 1\n",
      "\t 3 \t 25 \t 100 \t 2 , 3\n",
      "\t 4 \t 9 \t 97 \t 2 , 1\n",
      "total power:  68 ; total utility:  350\n",
      "Wall time: 0 ns\n"
     ]
    }
   ],
   "source": [
    "%%time\n",
    "S.BB_solution()\n",
    "S.get_answer()\n",
    "S.show_answer()"
   ]
  },
  {
   "cell_type": "markdown",
   "metadata": {},
   "source": [
    "# Online Solution"
   ]
  },
  {
   "cell_type": "code",
   "execution_count": 10,
   "metadata": {},
   "outputs": [
    {
     "name": "stdout",
     "output_type": "stream",
     "text": [
      "average best threshold:  55.3\n"
     ]
    }
   ],
   "source": [
    "t = Result_Analyse.statisticalAnalyse()"
   ]
  },
  {
   "cell_type": "code",
   "execution_count": 14,
   "metadata": {},
   "outputs": [
    {
     "name": "stdout",
     "output_type": "stream",
     "text": [
      "total power consumed by online solution :  82\n",
      "total rate gotten by online solution :  347\n",
      "total power consumed by DP solution :  97\n",
      "total rate gotten by DP solution :  380\n"
     ]
    },
    {
     "name": "stderr",
     "output_type": "stream",
     "text": [
      "C:\\Users\\Dorian\\Anaconda3\\lib\\site-packages\\ipykernel_launcher.py:2: UserWarning: Matplotlib is currently using module://ipykernel.pylab.backend_inline, which is a non-GUI backend, so cannot show the figure.\n",
      "  \n",
      "C:\\Users\\Dorian\\Anaconda3\\lib\\site-packages\\ipykernel_launcher.py:3: UserWarning: Matplotlib is currently using module://ipykernel.pylab.backend_inline, which is a non-GUI backend, so cannot show the figure.\n",
      "  This is separate from the ipykernel package so we can avoid doing imports until\n"
     ]
    },
    {
     "data": {
      "image/png": "[encoded data removed]",
      "text/plain": [
       "<Figure size 432x288 with 4 Axes>"
      ]
     },
     "metadata": {
      "needs_background": "light"
     },
     "output_type": "display_data"
    },
    {
     "data": {
      "image/png": "[encoded data removed]",
      "text/plain": [
       "<Figure size 432x288 with 4 Axes>"
      ]
     },
     "metadata": {
      "needs_background": "light"
     },
     "output_type": "display_data"
    }
   ],
   "source": [
    "f, f_o = Result_Analyse.OptimalSolutionComparison(t)\n",
    "f.show()\n",
    "f_o.show()"
   ]
  },
  {
   "cell_type": "code",
   "execution_count": null,
   "metadata": {},
   "outputs": [],
   "source": []
  }
 ],
 "metadata": {
  "kernelspec": {
   "display_name": "Python 3",
   "language": "python",
   "name": "python3"
  },
  "language_info": {
   "codemirror_mode": {
    "name": "ipython",
    "version": 3
   },
   "file_extension": ".py",
   "mimetype": "text/x-python",
   "name": "python",
   "nbconvert_exporter": "python",
   "pygments_lexer": "ipython3",
   "version": "3.6.5"
  }
 },
 "nbformat": 4,
 "nbformat_minor": 2
}
