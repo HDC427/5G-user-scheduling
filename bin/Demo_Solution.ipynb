{
 "cells": [
  {
   "cell_type": "code",
   "execution_count": 1,
   "metadata": {},
   "outputs": [],
   "source": [
    "import sys\n",
    "if '../' not in sys.path:\n",
    "    sys.path.append('../')\n",
    "    sys.path.append('../src')\n",
    "    \n",
    "from Channel import Channel\n",
    "from Solution import Solution"
   ]
  },
  {
   "cell_type": "markdown",
   "metadata": {},
   "source": [
    "# Initialization\n",
    "loading data and preprocessing"
   ]
  },
  {
   "cell_type": "code",
   "execution_count": 2,
   "metadata": {},
   "outputs": [],
   "source": [
    "channel = Channel.read_testfile(1)\n",
    "\n",
    "for i in range(Channel.N):\n",
    "    channel[i].preprocess_simple()\n",
    "    channel[i].preprocess_IP()\n",
    "    channel[i].preprocess_LP()"
   ]
  },
  {
   "cell_type": "code",
   "execution_count": 3,
   "metadata": {},
   "outputs": [],
   "source": [
    "S = Solution(channel)"
   ]
  },
  {
   "cell_type": "markdown",
   "metadata": {},
   "source": [
    "# Greedy solution"
   ]
  },
  {
   "cell_type": "code",
   "execution_count": 4,
   "metadata": {},
   "outputs": [
    {
     "name": "stdout",
     "output_type": "stream",
     "text": [
      "Power budget: 100\n",
      "[0 1]\n",
      "[0 1]\n",
      "[0 1]\n",
      "[0 1]\n",
      "total power:  78 ; total utility:  365\n",
      "Wall time: 0 ns\n"
     ]
    }
   ],
   "source": [
    "%%time\n",
    "S.greedy_solution()\n",
    "S.get_answer()\n",
    "S.show_answer()"
   ]
  },
  {
   "cell_type": "markdown",
   "metadata": {},
   "source": [
    "Standard linear programming for comparison"
   ]
  },
  {
   "cell_type": "code",
   "execution_count": 5,
   "metadata": {},
   "outputs": [
    {
     "name": "stdout",
     "output_type": "stream",
     "text": [
      "[1.08648355e-12 1.00000000e+00 1.14566257e-12 1.00000000e+00\n",
      " 3.18776911e-13 1.00000000e+00 4.97036889e-13 1.00000000e+00]\n",
      "365.0000000002266\n"
     ]
    }
   ],
   "source": [
    "import numpy as np\n",
    "from scipy import optimize\n",
    "\n",
    "U = np.concatenate([channel[i].r for i in range(Channel.N)])\n",
    "P = np.concatenate([channel[i].p for i in range(Channel.N)])\n",
    "\n",
    "X = np.zeros((Channel.N, len(U)))\n",
    "temp = 0\n",
    "for i in range(Channel.N):\n",
    "    X[i, temp:temp+channel[i].size()] = 1\n",
    "    temp += channel[i].size()\n",
    "    \n",
    "P = np.row_stack((P, X))\n",
    "B = [Channel.P] + [1 for i in range(Channel.N)]\n",
    "\n",
    "bounds = [(0, 1) for i in range(len(U))]\n",
    "\n",
    "res = optimize.linprog(-U, A_ub=P, b_ub=B, bounds=bounds)\n",
    "print(res.x)\n",
    "print(-res.fun)\n",
    "#print(bounds)"
   ]
  },
  {
   "cell_type": "markdown",
   "metadata": {},
   "source": [
    "# DP solution"
   ]
  },
  {
   "cell_type": "code",
   "execution_count": 6,
   "metadata": {},
   "outputs": [
    {
     "name": "stdout",
     "output_type": "stream",
     "text": [
      "Power budget: 100\n",
      "channel(n)\t p\t r\t user(k), m\n",
      "\t 1 \t 12 \t 98 \t 1 , 2\n",
      "\t 2 \t 7 \t 85 \t 2 , 3\n",
      "\t 3 \t 27 \t 87 \t 2 , 3\n",
      "\t 4 \t 32 \t 95 \t 2 , 1\n",
      "total power:  78 ; total utility:  365\n",
      "Wall time: 15.6 ms\n"
     ]
    }
   ],
   "source": [
    "%%time\n",
    "S.DP_solution()\n",
    "S.get_answer()\n",
    "S.show_answer()"
   ]
  },
  {
   "cell_type": "markdown",
   "metadata": {},
   "source": [
    "# DP solution 2"
   ]
  },
  {
   "cell_type": "code",
   "execution_count": 7,
   "metadata": {},
   "outputs": [
    {
     "name": "stdout",
     "output_type": "stream",
     "text": [
      "Power budget: 100\n",
      "channel(n)\t p\t r\t user(k), m\n",
      "\t 1 \t 12 \t 98 \t 1 , 2\n",
      "\t 2 \t 7 \t 85 \t 2 , 3\n",
      "\t 3 \t 27 \t 87 \t 2 , 3\n",
      "\t 4 \t 32 \t 95 \t 2 , 1\n",
      "total power:  78 ; total utility:  365\n",
      "Wall time: 22 ms\n"
     ]
    }
   ],
   "source": [
    "%%time\n",
    "S.DP_solution_2()\n",
    "S.get_answer()\n",
    "S.show_answer()"
   ]
  },
  {
   "cell_type": "markdown",
   "metadata": {},
   "source": [
    "# Branch and bound"
   ]
  },
  {
   "cell_type": "code",
   "execution_count": 8,
   "metadata": {},
   "outputs": [
    {
     "name": "stdout",
     "output_type": "stream",
     "text": [
      "[[1, 1, 1, 1, 4]]\n",
      "Power budget: 100\n",
      "channel(n)\t p\t r\t user(k), m\n",
      "\t 1 \t 12 \t 98 \t 1 , 2\n",
      "\t 2 \t 7 \t 85 \t 2 , 3\n",
      "\t 3 \t 27 \t 87 \t 2 , 3\n",
      "\t 4 \t 32 \t 95 \t 2 , 1\n",
      "total power:  78 ; total utility:  365\n",
      "Wall time: 0 ns\n"
     ]
    }
   ],
   "source": [
    "%%time\n",
    "S.BB_solution()\n",
    "S.get_answer()\n",
    "S.show_answer()"
   ]
  }
 ],
 "metadata": {
  "kernelspec": {
   "display_name": "Python 3",
   "language": "python",
   "name": "python3"
  },
  "language_info": {
   "codemirror_mode": {
    "name": "ipython",
    "version": 3
   },
   "file_extension": ".py",
   "mimetype": "text/x-python",
   "name": "python",
   "nbconvert_exporter": "python",
   "pygments_lexer": "ipython3",
   "version": "3.6.5"
  }
 },
 "nbformat": 4,
 "nbformat_minor": 2
}
